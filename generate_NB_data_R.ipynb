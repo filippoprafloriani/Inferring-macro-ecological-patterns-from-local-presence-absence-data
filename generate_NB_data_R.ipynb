{
 "cells": [
  {
   "cell_type": "code",
   "execution_count": 2,
   "id": "e37a9a62-2ec3-4b51-88cd-8dfb195a9894",
   "metadata": {},
   "outputs": [],
   "source": [
    "library(tidyverse)\n",
    "library(VGAM)\n",
    "library(VGAMdata)"
   ]
  },
  {
   "cell_type": "code",
   "execution_count": 7,
   "id": "52ddc834-62a0-4da7-a0bf-0211e7d50fcd",
   "metadata": {},
   "outputs": [],
   "source": [
    "#Parameters NB\n",
    "S_nb = 4974\n",
    "r = 0.8\n",
    "xi = 0.999\n",
    "\n",
    "#Generate abundances\n",
    "abundances_nb <- rposnegbin(S_nb, r, 1-xi)"
   ]
  },
  {
   "cell_type": "code",
   "execution_count": 8,
   "id": "bebf237b-f991-48d3-b196-2b24b2b57ea1",
   "metadata": {},
   "outputs": [
    {
     "name": "stdout",
     "output_type": "stream",
     "text": [
      "Are there any species with 0 populations? FALSE"
     ]
    }
   ],
   "source": [
    "check <- any(abundances_nb[abundances_nb == 0])\n",
    "cat('Are there any species with 0 populations?', check)"
   ]
  },
  {
   "cell_type": "code",
   "execution_count": 9,
   "id": "881a6a2f-7936-4fae-8e2f-1e7c414a32e4",
   "metadata": {},
   "outputs": [
    {
     "data": {
      "image/png": "[encoded data removed]",
      "text/plain": [
       "Plot with title \"Histogram of abundances_nb\""
      ]
     },
     "metadata": {
      "image/png": {
       "height": 420,
       "width": 420
      }
     },
     "output_type": "display_data"
    }
   ],
   "source": [
    "hist(abundances_nb)"
   ]
  },
  {
   "cell_type": "code",
   "execution_count": 10,
   "id": "7797ea34-9a7e-467f-8fd1-e054faefea19",
   "metadata": {},
   "outputs": [],
   "source": [
    "# Write to file\n",
    "file_path <- \"abundances_NB.txt\"\n",
    "write.table(abundances_nb, file = file_path, sep = \"\\t\", quote = FALSE, row.names = FALSE, col.names = FALSE)"
   ]
  },
  {
   "cell_type": "code",
   "execution_count": null,
   "id": "9615d268-9e7b-4f19-b833-1ef9f3632a89",
   "metadata": {},
   "outputs": [],
   "source": []
  },
  {
   "cell_type": "code",
   "execution_count": null,
   "id": "f46ae91c-1e97-4d0a-be87-43b2afba2df2",
   "metadata": {},
   "outputs": [],
   "source": []
  }
 ],
 "metadata": {
  "kernelspec": {
   "display_name": "R",
   "language": "R",
   "name": "ir"
  },
  "language_info": {
   "codemirror_mode": "r",
   "file_extension": ".r",
   "mimetype": "text/x-r-source",
   "name": "R",
   "pygments_lexer": "r",
   "version": "4.2.2"
  }
 },
 "nbformat": 4,
 "nbformat_minor": 5
}
